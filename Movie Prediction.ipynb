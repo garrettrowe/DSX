{
    "cells": [
        {
            "cell_type": "markdown", 
            "metadata": {
                "scrolled": true, 
                "collapsed": false
            }, 
            "source": "!pip install sklearn --upgrade\n!pip install python-swiftclient\n!pip install python-keystoneclient\n! cp /usr/local/src/data-connectors-1.4.1/db2jcc4-10.5.0.6.jar /gpfs/fs01/user/s29c-694fb46c266841-c78410792144/.local/lib/python2.7/site-packages/ibmdbpy/db2jcc4.jar"
        }, 
        {
            "cell_type": "markdown", 
            "metadata": {}, 
            "source": "### The above cell should be run 1 time only. Once complete, Restart the Kernel.\n"
        }, 
        {
            "cell_type": "markdown", 
            "metadata": {}, 
            "source": "Load your BigSql and ObjectStorage credentials below\n"
        }, 
        {
            "cell_type": "code", 
            "metadata": {
                "collapsed": true
            }, 
            "outputs": [], 
            "source": "# The code was removed by DSX for sharing.", 
            "execution_count": 23
        }, 
        {
            "cell_type": "code", 
            "metadata": {
                "collapsed": false
            }, 
            "outputs": [], 
            "source": "import swiftclient\nimport numpy\nimport os\nfrom sklearn.ensemble import RandomForestClassifier\nfrom ibmdbpy import IdaDataBase\nfrom ibmdbpy import IdaDataFrame\nfrom collections import defaultdict\nfrom sklearn.preprocessing import Imputer\nfrom sklearn.externals import joblib\nfrom sklearn.preprocessing import LabelEncoder\nfrom tempfile import mkdtemp\nfrom jaydebeapi import _DEFAULT_CONVERTERS, _java_to_py\n_DEFAULT_CONVERTERS.update({'BIGINT': _java_to_py('longValue')})", 
            "execution_count": 24
        }, 
        {
            "cell_type": "markdown", 
            "metadata": {}, 
            "source": "Next, let's open a connection to our database and pull in our sample data"
        }, 
        {
            "cell_type": "code", 
            "metadata": {
                "collapsed": false
            }, 
            "outputs": [], 
            "source": "bsql = credentials_1\nobjs = credentials_2", 
            "execution_count": 25
        }, 
        {
            "cell_type": "code", 
            "metadata": {
                "collapsed": false
            }, 
            "outputs": [
                {
                    "text": "      title  netflix_id  customerId  GENDER  SENIORCITIZEN  DEPENDENTS  \\\n0  Rounders    17236920  0089-IIQKO  Female              0           1   \n1  Rounders    17236920  0264-CNITK  Female              0           1   \n2  Rounders    17236920  2091-GPPIQ  Female              0           1   \n3   Payback    18957710  3018-TFTSU    Male              0           0   \n4   Payback      343044  0004-TLHLJ    Male              0           0   \n\n   TENURE  PAPERLESSBILLING              PAYMENTMETHOD  MONTHLYCHARGES  \n0      39                 1    Credit card (automatic)           99.95  \n1      71                 0  Bank transfer (automatic)           20.10  \n2      72                 1           Electronic check           78.95  \n3      12                 0  Bank transfer (automatic)           81.70  \n4       4                 1           Electronic check           73.90  \n", 
                    "output_type": "stream", 
                    "name": "stdout"
                }
            ], 
            "source": "dsn_hostname =bsql['host'] \ndsn_port = bsql['port'] \ndsn_database = bsql['database']  \ndsn_protocol = \"TCPIP\"          \ndsn_uid = bsql['user']    \ndsn_pwd = bsql['password']  \n\nconnection_string='jdbc:db2://'+dsn_hostname+':'+dsn_port+'/'+dsn_database+':user='+dsn_uid+';password='+dsn_pwd+\";\" \nidaf = IdaDataFrame(IdaDataBase(dsn=connection_string), 'BIGSQL.MOVIES', indexer=\"ID\").as_dataframe();\nprint (idaf.head())\n    ", 
            "execution_count": 26
        }, 
        {
            "cell_type": "code", 
            "metadata": {
                "collapsed": false
            }, 
            "outputs": [
                {
                    "text": "   title  netflix_id  customerId  GENDER  SENIORCITIZEN  DEPENDENTS  TENURE  \\\n0     24    17236920          39       0              0           1      39   \n1     24    17236920          72       0              0           1      71   \n2     24    17236920         147       0              0           1      72   \n3     15    18957710         155       1              0           0      12   \n4     15      343044           2       1              0           0       4   \n\n   PAPERLESSBILLING  PAYMENTMETHOD  MONTHLYCHARGES  \n0                 1              1           99.95  \n1                 0              0           20.10  \n2                 1              2           78.95  \n3                 0              0           81.70  \n4                 1              2           73.90  \n", 
                    "output_type": "stream", 
                    "name": "stdout"
                }
            ], 
            "source": "le=LabelEncoder()\nd = defaultdict(LabelEncoder)\nfor col in idaf:\n       if idaf[col].dtypes=='object':\n            idaf[col] = idaf.apply(lambda x: d[idaf[col].name].fit_transform(idaf[col]))\n\nprint (idaf.head())\n", 
            "execution_count": 27
        }, 
        {
            "cell_type": "code", 
            "metadata": {
                "collapsed": false
            }, 
            "outputs": [], 
            "source": "dataSet = Imputer().fit_transform(idaf.values)", 
            "execution_count": 28
        }, 
        {
            "cell_type": "markdown", 
            "metadata": {}, 
            "source": "Now we will run a Random Forest algorithm on the data"
        }, 
        {
            "cell_type": "code", 
            "metadata": {
                "collapsed": false
            }, 
            "outputs": [
                {
                    "metadata": {}, 
                    "data": {
                        "text/plain": "RandomForestClassifier(bootstrap=True, class_weight=None, criterion='gini',\n            max_depth=None, max_features='auto', max_leaf_nodes=None,\n            min_impurity_split=1e-07, min_samples_leaf=1,\n            min_samples_split=2, min_weight_fraction_leaf=0.0,\n            n_estimators=100, n_jobs=2, oob_score=False, random_state=None,\n            verbose=0, warm_start=False)"
                    }, 
                    "execution_count": 29, 
                    "output_type": "execute_result"
                }
            ], 
            "source": "rf_c= RandomForestClassifier(n_estimators = 100, n_jobs = 2)\ntarget = [x[0] for x in dataSet]\ntrainingData = [x[3:10] for x in dataSet]\nrf_c.fit(trainingData, target)\n\n", 
            "execution_count": 29
        }, 
        {
            "cell_type": "markdown", 
            "metadata": {}, 
            "source": "Let's test our model"
        }, 
        {
            "cell_type": "code", 
            "metadata": {
                "collapsed": false
            }, 
            "outputs": [
                {
                    "metadata": {}, 
                    "data": {
                        "text/plain": "'Copenhagen'"
                    }, 
                    "execution_count": 30, 
                    "output_type": "execute_result"
                }
            ], 
            "source": "inpredict = [0,1,0,4,0,3,30]\ninpredict = numpy.array(inpredict).reshape(1, (len(inpredict)))\n\nd[\"title\"].inverse_transform(int(rf_c.predict(inpredict)[0])).encode('ascii')", 
            "execution_count": 30
        }, 
        {
            "cell_type": "markdown", 
            "metadata": {
                "collapsed": false
            }, 
            "source": "Finally, Lets package our model and save it to object storage"
        }, 
        {
            "cell_type": "code", 
            "metadata": {
                "collapsed": false
            }, 
            "outputs": [
                {
                    "metadata": {}, 
                    "data": {
                        "text/plain": "'258164c87ac08142393ac5570c2d3649'"
                    }, 
                    "execution_count": 31, 
                    "output_type": "execute_result"
                }
            ], 
            "source": "filename = os.path.join(mkdtemp(), 'movie')\njoblib.dump(rf_c, filename + '_c.gz', compress=3)\njoblib.dump(d, filename + '_d.gz', compress=3)\nconn = swiftclient.Connection(key= objs['password'],authurl='https://identity.open.softlayer.com/v3',auth_version='3',\nos_options={\"project_id\": objs['project_id'],\"user_id\": objs['user_id'],\"region_name\": objs['region']})\nconn.put_object(\"Analytics\",'movie_c.gz',open(filename + '_c.gz').read(),content_type='application/python-pickle')\nconn.put_object(\"Analytics\",'movie_d.gz',open(filename + '_d.gz').read(),content_type='application/python-pickle')", 
            "execution_count": 31
        }, 
        {
            "cell_type": "markdown", 
            "metadata": {}, 
            "source": ""
        }
    ], 
    "nbformat": 4, 
    "metadata": {
        "kernelspec": {
            "display_name": "Python 2 with Spark 1.6", 
            "name": "python2", 
            "language": "python"
        }, 
        "language_info": {
            "version": "2.7.11", 
            "codemirror_mode": {
                "version": 2, 
                "name": "ipython"
            }, 
            "mimetype": "text/x-python", 
            "nbconvert_exporter": "python", 
            "file_extension": ".py", 
            "name": "python", 
            "pygments_lexer": "ipython2"
        }
    }, 
    "nbformat_minor": 0
}